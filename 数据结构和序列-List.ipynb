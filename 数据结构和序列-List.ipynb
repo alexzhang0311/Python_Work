{
 "cells": [
  {
   "cell_type": "code",
   "execution_count": 3,
   "metadata": {},
   "outputs": [
    {
     "data": {
      "text/plain": [
       "['foo', 'peekaboo', 'baz']"
      ]
     },
     "execution_count": 3,
     "metadata": {},
     "output_type": "execute_result"
    }
   ],
   "source": [
    "a_list = [2,3,7,None]\n",
    "tup = ('foo', 'bar','baz')\n",
    "b_list = list(tup)\n",
    "b_list\n",
    "b_list[1] = 'peekaboo'\n",
    "b_list"
   ]
  },
  {
   "cell_type": "code",
   "execution_count": 5,
   "metadata": {},
   "outputs": [
    {
     "data": {
      "text/plain": [
       "[0, 1, 2, 3, 4, 5, 6, 7, 8, 9]"
      ]
     },
     "execution_count": 5,
     "metadata": {},
     "output_type": "execute_result"
    }
   ],
   "source": [
    "#迭代器或生成器\n",
    "\n",
    "gen = range(10)\n",
    "gen\n",
    "\n",
    "list(gen)\n"
   ]
  },
  {
   "cell_type": "code",
   "execution_count": 6,
   "metadata": {},
   "outputs": [
    {
     "data": {
      "text/plain": [
       "['foo', 'peekaboo', 'baz', 'dwarf']"
      ]
     },
     "execution_count": 6,
     "metadata": {},
     "output_type": "execute_result"
    }
   ],
   "source": [
    "#append 在列表末尾添加元素\n",
    "b_list.append('dwarf')\n",
    "b_list"
   ]
  },
  {
   "cell_type": "code",
   "execution_count": 7,
   "metadata": {},
   "outputs": [
    {
     "data": {
      "text/plain": [
       "['foo', 'alex', 'peekaboo', 'baz', 'dwarf']"
      ]
     },
     "execution_count": 7,
     "metadata": {},
     "output_type": "execute_result"
    }
   ],
   "source": [
    "#在特定位置插入元素，与append相比，insert耗费的计算量大\n",
    "b_list.insert(1,'alex')\n",
    "b_list"
   ]
  },
  {
   "cell_type": "code",
   "execution_count": 10,
   "metadata": {},
   "outputs": [
    {
     "data": {
      "text/plain": [
       "['foo', 'alex', 'baz', 'dwarf']"
      ]
     },
     "execution_count": 10,
     "metadata": {},
     "output_type": "execute_result"
    }
   ],
   "source": [
    "#移除特定位置元素\n",
    "b_list.pop(2)\n",
    "b_list"
   ]
  },
  {
   "cell_type": "code",
   "execution_count": 13,
   "metadata": {},
   "outputs": [
    {
     "data": {
      "text/plain": [
       "['alex', 'baz', 'dwarf', 'alex', 'alex']"
      ]
     },
     "execution_count": 13,
     "metadata": {},
     "output_type": "execute_result"
    }
   ],
   "source": [
    "b_list.append('alex')\n",
    "b_list\n",
    "b_list.remove('foo')\n",
    "b_list"
   ]
  },
  {
   "cell_type": "code",
   "execution_count": 15,
   "metadata": {},
   "outputs": [
    {
     "name": "stdout",
     "output_type": "stream",
     "text": [
      "['baz', 'dwarf', 'alex', 'alex']\n",
      "['baz', 'dwarf', 'alex']\n",
      "['baz', 'dwarf']\n"
     ]
    }
   ],
   "source": [
    "while b_list.count('alex') != 0:\n",
    "    b_list.remove('alex')\n",
    "    print (b_list)"
   ]
  },
  {
   "cell_type": "code",
   "execution_count": 17,
   "metadata": {},
   "outputs": [
    {
     "data": {
      "text/plain": [
       "False"
      ]
     },
     "execution_count": 17,
     "metadata": {},
     "output_type": "execute_result"
    }
   ],
   "source": [
    "#in 可以检查list中是否包含某个值\n",
    "'baz' in b_list\n",
    "'baz' not in b_list"
   ]
  },
  {
   "cell_type": "code",
   "execution_count": 18,
   "metadata": {},
   "outputs": [
    {
     "data": {
      "text/plain": [
       "[4, None, 'foo', 7, 8, (2, 3)]"
      ]
     },
     "execution_count": 18,
     "metadata": {},
     "output_type": "execute_result"
    }
   ],
   "source": [
    "#串联与组合列表\n",
    "[4,None,'foo'] + [7,8,(2,3)]"
   ]
  },
  {
   "cell_type": "code",
   "execution_count": 19,
   "metadata": {},
   "outputs": [
    {
     "data": {
      "text/plain": [
       "[4, None, 'foo', 7, 8, (2, 3)]"
      ]
     },
     "execution_count": 19,
     "metadata": {},
     "output_type": "execute_result"
    }
   ],
   "source": [
    "#extend 可以用来追加多个元素\n",
    "x = [4, None, 'foo']\n",
    "x.extend([7,8,(2,3)])\n",
    "x"
   ]
  },
  {
   "cell_type": "code",
   "execution_count": 31,
   "metadata": {},
   "outputs": [
    {
     "data": {
      "text/plain": [
       "[1, 2, 3, (4, 5), [4, 5, 6, (7, 8)], 4, 5, 6, (7, 8)]"
      ]
     },
     "execution_count": 31,
     "metadata": {},
     "output_type": "execute_result"
    }
   ],
   "source": [
    "x = [1,2,3,(4,5)]\n",
    "y = [4,5,6,(7,8)]\n",
    "x.append(y)\n",
    "x\n",
    "x+y #加法将列表串联的计算量较大，因为要新建一个列表，并且要复制对象。\n",
    "#用extend追加元素，尤其是到一个大列表中，更为可取"
   ]
  },
  {
   "cell_type": "code",
   "execution_count": 44,
   "metadata": {},
   "outputs": [
    {
     "name": "stdout",
     "output_type": "stream",
     "text": [
      "chunk\n",
      "alex\n",
      "chunk\n",
      "happy\n",
      "['c', 'h', 'u', 'n', 'k', 'a', 'l', 'e', 'x', 'c', 'h', 'u', 'n', 'k', 'h', 'a', 'p', 'p', 'y']\n"
     ]
    }
   ],
   "source": [
    "#比较列表串联与extend速度\n",
    "list_of_lists = ['chunk','alex','chunk','happy']\n",
    "everything = []\n",
    "#for chunk in list_of_lists:\n",
    "    #everything.extend(chunk)\n",
    "everything\n",
    "list_of_lists\n",
    "for i in list_of_lists:\n",
    "    if i in list_of_lists:\n",
    "        everything.extend(i)\n",
    "        print(i)\n",
    "print(everything)"
   ]
  },
  {
   "cell_type": "code",
   "execution_count": 50,
   "metadata": {},
   "outputs": [
    {
     "data": {
      "text/plain": [
       "[1, 2, 3]"
      ]
     },
     "execution_count": 50,
     "metadata": {},
     "output_type": "execute_result"
    }
   ],
   "source": [
    "list_of_lists = [[1,2,3]]\n",
    "everything = []\n",
    "for chunk in list_of_lists:\n",
    "    everything = everything + chunk\n",
    "\n",
    "everything\n",
    "#extend 可以添加单个元素或者串联两个list. + 运算不可以添加单个元素如int，\n",
    "#str,串联的两个元素必须为list"
   ]
  },
  {
   "cell_type": "code",
   "execution_count": 51,
   "metadata": {},
   "outputs": [
    {
     "data": {
      "text/plain": [
       "[1, 2, 3, 5, 7]"
      ]
     },
     "execution_count": 51,
     "metadata": {},
     "output_type": "execute_result"
    }
   ],
   "source": [
    "#排序\n",
    "a = [7,2,5,1,3]\n",
    "a.sort()\n",
    "a"
   ]
  },
  {
   "cell_type": "code",
   "execution_count": 52,
   "metadata": {},
   "outputs": [
    {
     "data": {
      "text/plain": [
       "['he', 'saw', 'fox', 'six', 'small']"
      ]
     },
     "execution_count": 52,
     "metadata": {},
     "output_type": "execute_result"
    }
   ],
   "source": [
    "b = ['saw','small','he','fox','six']\n",
    "b.sort(key=len)\n",
    "b"
   ]
  },
  {
   "cell_type": "code",
   "execution_count": 69,
   "metadata": {},
   "outputs": [
    {
     "data": {
      "text/plain": [
       "[1, 2, 2, 2, 3, 4, 7, 8, 10]"
      ]
     },
     "execution_count": 69,
     "metadata": {},
     "output_type": "execute_result"
    }
   ],
   "source": [
    "import bisect\n",
    "c = [1,2,2,2,3,4,7]\n",
    "bisect.bisect(c,2)\n",
    "bisect.bisect(c,5)\n",
    "bisect.insort(c,8)\n",
    "bisect.bisect(c,2)\n",
    "bisect.insort(c,10)\n",
    "c"
   ]
  },
  {
   "cell_type": "code",
   "execution_count": 71,
   "metadata": {},
   "outputs": [
    {
     "data": {
      "text/plain": [
       "[7, 2, 3, 6, 3, 5, 6, 0, 1]"
      ]
     },
     "execution_count": 71,
     "metadata": {},
     "output_type": "execute_result"
    }
   ],
   "source": [
    "#切片 seq[start:stop:step]\n",
    "seq = [7,2,3,7,5,6,0,1]\n",
    "seq[0:5]\n",
    "seq[3:4] = [6,3] #切片复制\n",
    "seq"
   ]
  },
  {
   "cell_type": "code",
   "execution_count": 76,
   "metadata": {},
   "outputs": [
    {
     "data": {
      "text/plain": [
       "[6, 3, 5, 6]"
      ]
     },
     "execution_count": 76,
     "metadata": {},
     "output_type": "execute_result"
    }
   ],
   "source": [
    "seq[:5]\n",
    "seq[3:]\n",
    "seq[-4:] #反向\n",
    "seq[-6:-2] #反向"
   ]
  },
  {
   "cell_type": "code",
   "execution_count": 79,
   "metadata": {},
   "outputs": [
    {
     "data": {
      "text/plain": [
       "[1, 0, 6, 5, 3, 6, 3, 2, 7]"
      ]
     },
     "execution_count": 79,
     "metadata": {},
     "output_type": "execute_result"
    }
   ],
   "source": [
    "seq\n",
    "seq[::2] #隔一个取一个元素\n",
    "seq[::-1] #将list或者tuple颠倒过来"
   ]
  },
  {
   "cell_type": "code",
   "execution_count": 85,
   "metadata": {},
   "outputs": [
    {
     "name": "stdout",
     "output_type": "stream",
     "text": [
      "1\n",
      "2\n",
      "3\n",
      "4\n",
      "5\n",
      "5\n"
     ]
    }
   ],
   "source": [
    "#enumerate函数\n",
    "#迭代一个序列时，你可能想跟踪当前项的序号，可以返回(i, value)元组序列\n",
    "i = 0\n",
    "collection = [1,2,3,4,5]\n",
    "for value in collection:\n",
    "    i += 1\n",
    "    print(i)\n",
    "print(i)"
   ]
  },
  {
   "cell_type": "code",
   "execution_count": 122,
   "metadata": {},
   "outputs": [
    {
     "name": "stdout",
     "output_type": "stream",
     "text": [
      "0,foo\n",
      "1,bar\n",
      "2,baz\n"
     ]
    }
   ],
   "source": [
    "some_list = ['foo','bar','baz']\n",
    "mapping = {}\n",
    "for i,v in enumerate(some_list):\n",
    "    mapping[v] = i\n",
    "    print('{0},{1}'.format(i,v))"
   ]
  },
  {
   "cell_type": "code",
   "execution_count": 104,
   "metadata": {},
   "outputs": [
    {
     "data": {
      "text/plain": [
       "[0, 1, 2, 2, 3, 6, 7]"
      ]
     },
     "execution_count": 104,
     "metadata": {},
     "output_type": "execute_result"
    }
   ],
   "source": [
    "#sorted函数可以从任意序列的元素返回一个新的排好序的列表\n",
    "seq = [7,1,2,6,0,3,2]\n",
    "#sorted(seq)\n",
    "seq.sort()\n",
    "seq"
   ]
  },
  {
   "cell_type": "code",
   "execution_count": 120,
   "metadata": {},
   "outputs": [
    {
     "data": {
      "text/plain": [
       "[('foo', 'one'), ('bar', 'two'), ('baz', 'three')]"
      ]
     },
     "execution_count": 120,
     "metadata": {},
     "output_type": "execute_result"
    }
   ],
   "source": [
    "#ZIP 将多个列表、元组或其它序列成对组合成一个元组列表\n",
    "seq1 = ['foo', 'bar', 'baz']\n",
    "seq2 = ['one','two','three']\n",
    "zipped = zip(seq1,seq2)\n",
    "list(zipped)"
   ]
  },
  {
   "cell_type": "code",
   "execution_count": 112,
   "metadata": {},
   "outputs": [
    {
     "data": {
      "text/plain": [
       "[('foo', 'one', False), ('bar', 'two', True)]"
      ]
     },
     "execution_count": 112,
     "metadata": {},
     "output_type": "execute_result"
    }
   ],
   "source": [
    "seq3 = [False, True]\n",
    "list(zip(seq1, seq2, seq3))"
   ]
  },
  {
   "cell_type": "code",
   "execution_count": 119,
   "metadata": {},
   "outputs": [
    {
     "name": "stdout",
     "output_type": "stream",
     "text": [
      "0:foo,one\n",
      "1:bar,two\n",
      "2:baz,three\n"
     ]
    }
   ],
   "source": [
    "for i,(a,b) in enumerate(zip(seq1,seq2)):\n",
    "    print('{0}:{1},{2}'.format(i,a,b))"
   ]
  },
  {
   "cell_type": "code",
   "execution_count": 124,
   "metadata": {},
   "outputs": [
    {
     "name": "stdout",
     "output_type": "stream",
     "text": [
      "('Nolan', 'Roger', 'Schilling') ('Ryan', 'Clemens', 'Curt')\n"
     ]
    }
   ],
   "source": [
    "#ZIP可以反解压缩\n",
    "pictures = [('Nolan','Ryan'),('Roger','Clemens'),('Schilling','Curt')]\n",
    "first_names,last_names = zip(*pictures)\n",
    "print(first_names,last_names)"
   ]
  },
  {
   "cell_type": "code",
   "execution_count": 125,
   "metadata": {},
   "outputs": [
    {
     "data": {
      "text/plain": [
       "range(0, 10)"
      ]
     },
     "execution_count": 125,
     "metadata": {},
     "output_type": "execute_result"
    }
   ],
   "source": [
    "range(10)"
   ]
  },
  {
   "cell_type": "code",
   "execution_count": 132,
   "metadata": {},
   "outputs": [
    {
     "data": {
      "text/plain": [
       "[9, 8, 7, 6, 5, 4, 3, 2, 1, 0]"
      ]
     },
     "execution_count": 132,
     "metadata": {},
     "output_type": "execute_result"
    }
   ],
   "source": [
    "# 反转list\n",
    "list(reversed(range(10)))\n",
    "a = list(range(10))\n",
    "a[::-1]"
   ]
  },
  {
   "cell_type": "code",
   "execution_count": null,
   "metadata": {},
   "outputs": [],
   "source": []
  }
 ],
 "metadata": {
  "kernelspec": {
   "display_name": "Python 3",
   "language": "python",
   "name": "python3"
  },
  "language_info": {
   "codemirror_mode": {
    "name": "ipython",
    "version": 3
   },
   "file_extension": ".py",
   "mimetype": "text/x-python",
   "name": "python",
   "nbconvert_exporter": "python",
   "pygments_lexer": "ipython3",
   "version": "3.6.5"
  }
 },
 "nbformat": 4,
 "nbformat_minor": 2
}
